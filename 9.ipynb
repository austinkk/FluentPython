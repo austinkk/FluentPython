{
 "cells": [
  {
   "cell_type": "markdown",
   "metadata": {},
   "source": [
    "# 符合Python风格的对象"
   ]
  },
  {
   "cell_type": "code",
   "execution_count": null,
   "metadata": {},
   "outputs": [],
   "source": [
    "# 实现自定义类型的行为可以像内置类型那样自然"
   ]
  },
  {
   "cell_type": "code",
   "execution_count": 2,
   "metadata": {},
   "outputs": [],
   "source": [
    "# __repr__ repr() 便于开发者理解的方式返回对象的字符串表示形式\n",
    "# __str__ str() 便于用户理解的方式返回对象的字符串表示形式\n",
    "# __bytes__ | bytes() 函数调用它获取对象的字节序列表示形式\n",
    "# __format__ | format()"
   ]
  },
  {
   "cell_type": "code",
   "execution_count": 3,
   "metadata": {},
   "outputs": [],
   "source": [
    "# !!! python 3 中，__repr__、__str__、和__format__方法都必须返回Unicode字符串（str 类型），只有__bytes__方法返回字节序列(bytes类型) !!!"
   ]
  },
  {
   "cell_type": "code",
   "execution_count": 15,
   "metadata": {},
   "outputs": [],
   "source": [
    "from array import array\n",
    "import math\n",
    "\n",
    "class Vector2d:\n",
    "    typecode = 'd'\n",
    "\n",
    "    def __init__(self, x, y):\n",
    "        self.x = float(x)\n",
    "        self.y = float(y)\n",
    "\n",
    "    def __iter__(self):\n",
    "        return (i for i in (self.x, self.y))\n",
    "\n",
    "    def __repr__(self):\n",
    "        class_name = type(self).__name__\n",
    "        return '{}({!r},{!r})'.format(class_name, *self)\n",
    "\n",
    "    def __str__(self):\n",
    "        return str(tuple(self))\n",
    "\n",
    "    def __bytes__(self):\n",
    "        return (bytes([ord(self.typecode)]) +\n",
    "                   bytes(array(self.typecode, self)))\n",
    "    \n",
    "    def __eq__(self, other):\n",
    "        return tuple(self) == tuple(other)\n",
    "    \n",
    "    def __abs__(self):\n",
    "        return math.hypot(self.x, self.y)\n",
    "\n",
    "    def __bool__(self):\n",
    "        return bool(abs(self))\n",
    "\n",
    "    def __format__(self, fmt_spec=''):\n",
    "        components = (format(c, fmt_spec) for c in self)\n",
    "        return '({},{})'.format(*components)\n",
    "\n",
    "    @classmethod\n",
    "    def frombytes(cls, octets):\n",
    "        typecode = chr(octets[0])\n",
    "        memv = memoryview(octets[1:]).cast(typecode)\n",
    "        return cls(*memv)"
   ]
  },
  {
   "cell_type": "code",
   "execution_count": 4,
   "metadata": {},
   "outputs": [],
   "source": [
    "# classmethod 与 staticmethod\n",
    "# （看了很多，总结下来就是staticmethod就是普通函数，没啥luan用）\n",
    "class Demo:\n",
    "    @classmethod\n",
    "    def klassmeth(*args):\n",
    "        return args\n",
    "    @staticmethod\n",
    "    def statmeth(*args):\n",
    "        return args"
   ]
  },
  {
   "cell_type": "code",
   "execution_count": 6,
   "metadata": {},
   "outputs": [
    {
     "name": "stdout",
     "output_type": "stream",
     "text": [
      "(<class '__main__.Demo'>,)\n",
      "(<class '__main__.Demo'>, 'spam')\n",
      "()\n",
      "('spam',)\n"
     ]
    }
   ],
   "source": [
    "print (Demo.klassmeth())\n",
    "print (Demo.klassmeth('spam'))\n",
    "print (Demo.statmeth())\n",
    "print (Demo.statmeth('spam'))"
   ]
  },
  {
   "cell_type": "code",
   "execution_count": 7,
   "metadata": {},
   "outputs": [
    {
     "name": "stdout",
     "output_type": "stream",
     "text": [
      "0.4115\n",
      "1 BRL = 0.41 USD\n"
     ]
    }
   ],
   "source": [
    "# 格式化显示，内置format()和str.format()\n",
    "brl = 1/2.43\n",
    "print (format(brl, '0.4f'))\n",
    "print ('1 BRL = {rate:0.2f} USD'.format(rate = brl))"
   ]
  },
  {
   "cell_type": "code",
   "execution_count": 10,
   "metadata": {},
   "outputs": [
    {
     "name": "stdout",
     "output_type": "stream",
     "text": [
      "101010\n",
      "66.7%\n"
     ]
    }
   ],
   "source": [
    "# b和x分别表示二进制和十六进制的int类型\n",
    "# f表示小数形式的float类型，而%表示百分数形式\n",
    "print (format(42, 'b'))\n",
    "print (format(2/3, '0.1%'))"
   ]
  },
  {
   "cell_type": "code",
   "execution_count": 12,
   "metadata": {},
   "outputs": [
    {
     "name": "stdout",
     "output_type": "stream",
     "text": [
      "2019-11-19 14:11:09.997845\n",
      "14:11:09\n",
      "It's now 02:11:09\n"
     ]
    }
   ],
   "source": [
    "from datetime import datetime\n",
    "now = datetime.now()\n",
    "print (now)\n",
    "print (format(now, '%H:%M:%S'))\n",
    "print (\"It's now {:%I:%M:%S}\".format(now))"
   ]
  },
  {
   "cell_type": "code",
   "execution_count": 17,
   "metadata": {},
   "outputs": [
    {
     "name": "stdout",
     "output_type": "stream",
     "text": [
      "(3.00,4.00)\n"
     ]
    }
   ],
   "source": [
    "# 类没有定义 __format__方法，从object继承的方法会返回str(my_object)\n",
    "v1 = Vector2d(3,4)\n",
    "print (format(v1, '0.2f'))"
   ]
  },
  {
   "cell_type": "code",
   "execution_count": null,
   "metadata": {},
   "outputs": [],
   "source": [
    "# 可散列的Vector2d,必须使用__hash__方法"
   ]
  },
  {
   "cell_type": "code",
   "execution_count": 24,
   "metadata": {},
   "outputs": [],
   "source": [
    "class Vecotr2d:\n",
    "    typecode = 'd'\n",
    "    \n",
    "    def __init__(self, x, y):\n",
    "        self.__x = float(x)\n",
    "        self.__y = float(y)\n",
    "\n",
    "    @property\n",
    "    def x(self):\n",
    "        return self.__x\n",
    "\n",
    "    @property\n",
    "    def y(self):\n",
    "        return self.__y\n",
    "\n",
    "    def __iter__(self):\n",
    "        return (i for i in (self.__x, self.__y))\n",
    "\n",
    "    def __hash__(self):\n",
    "        return hash(self.x) ^ hash(self.y)"
   ]
  },
  {
   "cell_type": "code",
   "execution_count": 26,
   "metadata": {},
   "outputs": [],
   "source": [
    "v1 = Vecotr2d(3, 4)\n",
    "v2 = Vecotr2d(4, 3)"
   ]
  },
  {
   "cell_type": "code",
   "execution_count": 27,
   "metadata": {},
   "outputs": [
    {
     "name": "stdout",
     "output_type": "stream",
     "text": [
      "7 7\n"
     ]
    }
   ],
   "source": [
    "print (hash(v1), hash(v2))"
   ]
  },
  {
   "cell_type": "code",
   "execution_count": 29,
   "metadata": {},
   "outputs": [
    {
     "name": "stdout",
     "output_type": "stream",
     "text": [
      "{'_Vecotr2d__x': 3.0, '_Vecotr2d__y': 4.0}\n"
     ]
    }
   ],
   "source": [
    "# Python的私有属性和“受保护的”属性\n",
    "# __pname python会把属性名存入实例的__dict__属性中,而且会在前面加上一个下划线和类名\n",
    "print (v1.__dict__)"
   ]
  },
  {
   "cell_type": "code",
   "execution_count": 31,
   "metadata": {},
   "outputs": [],
   "source": [
    "# 可以通过这种方式故意修改属性\n",
    "v1._Vecotr2d__x = 4"
   ]
  },
  {
   "cell_type": "code",
   "execution_count": null,
   "metadata": {},
   "outputs": [],
   "source": [
    "# 使用__slots__类属性节省空间\n",
    "\n",
    "class Vector2d:\n",
    "    __slots__ = ('__x', '__y')\n",
    "    typecode = 'd'\n",
    "\n",
    "    # 下面是各个方法\n",
    "\n",
    "# __slots__的问题\n",
    "# 1 每个子类都要定义__slots__属性，因为解释器会忽略继承的__slots__属性\n",
    "# 2 实例只能拥有__slots__中列出的属性，除非把'__dict__'加入__slots__中（这样做就失去了节省内存的功效）\n",
    "# 3 如果不把'__weakref__'加入__slots__，实例就不能作为弱引用的目标"
   ]
  },
  {
   "cell_type": "code",
   "execution_count": null,
   "metadata": {},
   "outputs": [],
   "source": []
  },
  {
   "cell_type": "code",
   "execution_count": null,
   "metadata": {},
   "outputs": [],
   "source": []
  },
  {
   "cell_type": "code",
   "execution_count": null,
   "metadata": {},
   "outputs": [],
   "source": []
  }
 ],
 "metadata": {
  "kernelspec": {
   "display_name": "Python 3",
   "language": "python",
   "name": "python3"
  },
  "language_info": {
   "codemirror_mode": {
    "name": "ipython",
    "version": 3
   },
   "file_extension": ".py",
   "mimetype": "text/x-python",
   "name": "python",
   "nbconvert_exporter": "python",
   "pygments_lexer": "ipython3",
   "version": "3.7.3"
  }
 },
 "nbformat": 4,
 "nbformat_minor": 2
}
