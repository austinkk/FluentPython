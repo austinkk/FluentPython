{
 "cells": [
  {
   "cell_type": "markdown",
   "metadata": {},
   "source": [
    "# 文本与字节序列"
   ]
  },
  {
   "cell_type": "code",
   "execution_count": null,
   "metadata": {},
   "outputs": [],
   "source": [
    "# python3 str对象是unicode序列 python str对象是原始字节序列\n",
    "# 字节序列是晦涩难懂的机读文本，unicode是人类可读的文本"
   ]
  },
  {
   "cell_type": "code",
   "execution_count": 11,
   "metadata": {},
   "outputs": [],
   "source": [
    "# 各个字节的字面量表示有3种\n",
    "# 1 可打印的ASCII范围内的字节（从空格到~），使用ASCII字符本身\n",
    "# 2 制表符、换行符、回车符和\\对应的字节，使用转义序列\\t、\\n、\\r和\\\\\n",
    "# 3 其他字节的值，使用\n",
    "cafe = b'caf\\xc3\\xa9'"
   ]
  },
  {
   "cell_type": "code",
   "execution_count": 13,
   "metadata": {},
   "outputs": [
    {
     "data": {
      "text/plain": [
       "'café'"
      ]
     },
     "execution_count": 13,
     "metadata": {},
     "output_type": "execute_result"
    }
   ],
   "source": [
    "cafe.decode('utf-8')"
   ]
  },
  {
   "cell_type": "code",
   "execution_count": null,
   "metadata": {},
   "outputs": [],
   "source": [
    "# 编码问题 1 UnicodeEncodeError 2 UnicodeDecodeError 3 SyntaxError\n",
    "\n",
    "# 处理UnicodeEncodeError\n",
    "# 处理UnicodeDecodeError\n",
    "# x.encode('xxx', error = 'ignore') 跳过无法编码的字符\n",
    "# x.encode('xxx', error = 'replace') 把无法编码的字符替换为'?'\n",
    "# x.encode('xxx', error = 'xmlcharrefreplace') 把无法编码的字符替换成XML实体\n",
    "# 编码错误可以扩展，参见 codecs.register_error\n",
    "\n",
    "# 处理SyntaxError\n",
    "# python3 默认使用utf-8编码源码  python2 默认使用ASCII\n",
    "# 在代码开头加 # coding: cp1252指定编码"
   ]
  },
  {
   "cell_type": "code",
   "execution_count": 19,
   "metadata": {},
   "outputs": [],
   "source": [
    "# BOM:有用的鬼符\n",
    "u16 = 'abcde'.encode('utf_16')"
   ]
  },
  {
   "cell_type": "code",
   "execution_count": 20,
   "metadata": {},
   "outputs": [
    {
     "data": {
      "text/plain": [
       "b'\\xff\\xfea\\x00b\\x00c\\x00d\\x00e\\x00'"
      ]
     },
     "execution_count": 20,
     "metadata": {},
     "output_type": "execute_result"
    }
   ],
   "source": [
    "u16"
   ]
  },
  {
   "cell_type": "code",
   "execution_count": null,
   "metadata": {},
   "outputs": [],
   "source": [
    "# b'\\xff\\xfea'就是BOM，字节序标记 ，大小字节序\n",
    "# UTF-16两个变种，UTF-16LE 显式使用小字节序 UTF-16BE 大字节序，不会生成BOM"
   ]
  },
  {
   "cell_type": "code",
   "execution_count": null,
   "metadata": {},
   "outputs": [],
   "source": [
    "# 同一个字符串，存在不同的码位（unicode）表示\n",
    "# 规范化Unicode字符串\n",
    "# 'NFC' 使用最少的码位构成等价字符串\n",
    "# 'NFD' 把组合字符分解成基字符和单独构成的组合字符\n",
    "from unicodedata import normalize\n",
    "normalize('NFC', s1)\n",
    "normalize('NFD', s2)"
   ]
  },
  {
   "cell_type": "code",
   "execution_count": null,
   "metadata": {},
   "outputs": [],
   "source": [
    "# 判断unicode是否相等\n",
    "from unicodedata import normalize\n",
    "def nfc_equal(str1, str2):\n",
    "    return normalize('NFC', str1) == normalize('NFC', str2)\n",
    "\n",
    "# str.lower() 和 str.casefold()类似，在unicode中总共有116个码位不同\n",
    "def fold_equal(str1, str2):\n",
    "    return (normalize('NFC', str1).casefold() == normalize('NFC', str2).casefold())"
   ]
  },
  {
   "cell_type": "code",
   "execution_count": null,
   "metadata": {},
   "outputs": [],
   "source": [
    "# 去掉全部的变音符号\n",
    "import unicodedata\n",
    "import string\n",
    "\n",
    "def shave_marks(txt):\n",
    "    norm_txt = unicodedata.normalize('NFD', txt)\n",
    "    shaved = ''.join(c for c in norm_txt if not unicodedata.combining(c))\n",
    "    return unicodedata.normalize('NFC', shaved)"
   ]
  },
  {
   "cell_type": "code",
   "execution_count": null,
   "metadata": {},
   "outputs": [],
   "source": [
    "# 删除拉丁字母中的组合记号函数\n",
    "def shave_marks_latin(txt):\n",
    "    norm_txt = unicodedata.normalize('NFD', txt)\n",
    "    latin_base = False\n",
    "    keepers = []\n",
    "    for c in norm_txt:\n",
    "        if unicodedata.combining(c) and latin_base:\n",
    "            continue\n",
    "        keepers.append(c)\n",
    "        if not unicodedata.combining(c):\n",
    "            latin_base = c in string.ascii_letters\n",
    "    shaved = ''.join(keepers)\n",
    "    return unicodedata.normalize('NFC', shaved)"
   ]
  },
  {
   "cell_type": "code",
   "execution_count": null,
   "metadata": {},
   "outputs": [],
   "source": []
  },
  {
   "cell_type": "code",
   "execution_count": null,
   "metadata": {},
   "outputs": [],
   "source": []
  },
  {
   "cell_type": "code",
   "execution_count": null,
   "metadata": {},
   "outputs": [],
   "source": []
  }
 ],
 "metadata": {
  "kernelspec": {
   "display_name": "Python 3",
   "language": "python",
   "name": "python3"
  },
  "language_info": {
   "codemirror_mode": {
    "name": "ipython",
    "version": 3
   },
   "file_extension": ".py",
   "mimetype": "text/x-python",
   "name": "python",
   "nbconvert_exporter": "python",
   "pygments_lexer": "ipython3",
   "version": "3.7.3"
  }
 },
 "nbformat": 4,
 "nbformat_minor": 2
}
