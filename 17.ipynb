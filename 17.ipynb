{
 "cells": [
  {
   "cell_type": "markdown",
   "metadata": {},
   "source": [
    "# 使用future处理并发"
   ]
  },
  {
   "cell_type": "code",
   "execution_count": null,
   "metadata": {},
   "outputs": [],
   "source": [
    "# 在I/O密集型应用中，如果代码写得正确，那么不管使用哪种并发策略（使用线程或asyncio包），吞吐量都比依序执行的代码高很多。"
   ]
  },
  {
   "cell_type": "code",
   "execution_count": 1,
   "metadata": {},
   "outputs": [],
   "source": [
    "import os\n",
    "import time\n",
    "import sys\n",
    "\n",
    "import requests\n",
    "from concurrent import futures"
   ]
  },
  {
   "cell_type": "code",
   "execution_count": 2,
   "metadata": {},
   "outputs": [],
   "source": [
    "from time import sleep, strftime"
   ]
  },
  {
   "cell_type": "code",
   "execution_count": null,
   "metadata": {},
   "outputs": [],
   "source": [
    "# 依序下载的脚本\n",
    "POP20_CC = 'CN IN US ID BR PK NG BD RU JP MX PH VN ET EG DE IR TR CD FR'.split()\n",
    "BASE_URL = 'http://flupy.org/data/flags'\n",
    "DEST_DIR = 'downloads/'\n",
    "\n",
    "def save_flag(img, filename):\n",
    "    path = os.path.join(DEST_DIR, filename)\n",
    "    with open(path, 'wb') as fp:\n",
    "        fp .write(img)\n",
    "\n",
    "def get_flag(cc):\n",
    "    url = '{}/{cc}/{cc}.git'.format(BASE_URL, cc = cc.lower())\n",
    "    resp = requests.get(url)\n",
    "    return resp.content\n",
    "\n",
    "def show(text):\n",
    "    print (text, end = ' ')\n",
    "    sys.stdout.flush()\n",
    "\n",
    "def download_many(cc_list):\n",
    "    for cc in sorted(cc_list):\n",
    "        imag = get_flag(cc)\n",
    "        show(cc)\n",
    "        save_flag(image, cc.lower() + '.gif')\n",
    "    return len(cc_list)\n",
    "\n",
    "def main(download_many):\n",
    "    t0 = time.time()\n",
    "    count = download_many(POP20_CC)\n",
    "    elapsed = time.time() - t0\n",
    "    msg = '\\n{} flags downloaded in {:.2f}s'\n",
    "    print (msg.format(count, elapsed))\n",
    "    \n",
    "#多线程下载脚本\n",
    "MAX_WORKERS = 20\n",
    "def download_one(cc):\n",
    "    image = get_flag(cc)\n",
    "    show(cc)\n",
    "    save_flag(image, cc.lower() + '.gif')\n",
    "    return cc\n",
    "\n",
    "def download_many(cc_list):\n",
    "    workers = min(MAX_WORKERS, len(cc_list))\n",
    "    with futures.ThreadPoolExecutor(workers) as executor:\n",
    "        res = executor.map(download_one, sorted(cc_list))\n",
    "    return len(list(res))"
   ]
  },
  {
   "cell_type": "code",
   "execution_count": null,
   "metadata": {},
   "outputs": [],
   "source": [
    "# future 在哪？future是concurrent.futures 和 asyncio包的重要组件\n",
    "def download_many(cc_list):\n",
    "    cc_list = cc_list[:5]\n",
    "    with futures.ThreadPoolExecutor(max_workers = 3) as executor:\n",
    "        to_do = []\n",
    "        for cc in sorted(cc_list):\n",
    "            future = executor.submit(download_one, cc)\n",
    "            to_do.append(future)\n",
    "            msg = 'Scheduled for {}: {}'\n",
    "            prit (msg.format(cc, future))\n",
    "\n",
    "        result = []\n",
    "        # as_completed 返回的是future运行结束后产出future的迭代器，不会阻塞调用方线程\n",
    "        for future in futures.as_completed(to_do):\n",
    "            res = future.result()\n",
    "            msg = '{} result: {!r}'\n",
    "            print (msg.format(future, res))\n",
    "            results.append(res)\n",
    "    return len(results)"
   ]
  },
  {
   "cell_type": "code",
   "execution_count": null,
   "metadata": {},
   "outputs": [],
   "source": [
    "# 目前测试的并发脚本都不能并行下载，使用concurrent.futures库实现的两个示例受GIL(Global Interpreter Lock，全局解释锁)的限制\n",
    "# 两个疑问：\n",
    "# 既然python线程受GIL的限制，任何时候都只允许运行一个线程，那么flags_threadpool.py脚本的下载速度怎么会提升5倍\n",
    "# flags_asyncio.py脚本和flags.py脚本都在单个线程中运行，前者为啥快5倍"
   ]
  },
  {
   "cell_type": "code",
   "execution_count": null,
   "metadata": {},
   "outputs": [],
   "source": [
    "# CPython解释器本身就不是线程安全的，GIL一次只允许使用一个线程执行Python字节码，一个Python进程通常不能同时使用多个CPU核心"
   ]
  },
  {
   "cell_type": "code",
   "execution_count": null,
   "metadata": {},
   "outputs": [],
   "source": [
    "# 一个Python线程在等待网络响应时，阻塞型I/O函数会释放GIL，再运行一个线程。\n",
    "# “Python 线程毫无作用” by David Beazley"
   ]
  },
  {
   "cell_type": "code",
   "execution_count": null,
   "metadata": {},
   "outputs": [],
   "source": [
    "# ProcessPoolExecutor 类把工作分配给多个Python进程处理，因此需要做CPU密集型处理，使用这个模块能绕开GIL，利用所有可用的CPU核心\n",
    "# 最佳线程数取决于做的是什么事，以及可以用的内存有多少。\n",
    "# 最佳进程数一般不要超过CPU数量"
   ]
  },
  {
   "cell_type": "code",
   "execution_count": 7,
   "metadata": {},
   "outputs": [],
   "source": [
    "def display(*args):\n",
    "    print (strftime('[%H:%M:%S]'), end=' ')\n",
    "    print (*args)\n",
    "\n",
    "def loiter(n):\n",
    "    msg = '{}loiter({}): doing nothing for {}s...'\n",
    "    display(msg.format('\\t'*n, n, n))\n",
    "    sleep(n)\n",
    "    msg = '{}loiter({}): done.'\n",
    "    display(msg.format('\\t'*n, n))\n",
    "    return n * 10\n",
    "\n",
    "def test():\n",
    "    display('Script starting.')\n",
    "    executor = futures.ThreadPoolExecutor(max_workers=3)\n",
    "    results = executor.map(loiter, range(5))\n",
    "    display('results:', results)\n",
    "    display('Waiting for individual results:')\n",
    "    for i, result in enumerate(results):\n",
    "        display('result {}: {}'.format(i, result))"
   ]
  },
  {
   "cell_type": "code",
   "execution_count": 8,
   "metadata": {
    "scrolled": true
   },
   "outputs": [
    {
     "name": "stdout",
     "output_type": "stream",
     "text": [
      "[14:22:10] Script starting.\n",
      "[14:22:10] loiter(0): doing nothing for 0s...\n",
      "[14:22:10] loiter(0): done.\n",
      "[14:22:10] \tloiter(1): doing nothing for 1s...\n",
      "[14:22:10] \t\tloiter(2): doing nothing for 2s...[14:22:10]\n",
      "[14:22:10] results: <generator object Executor.map.<locals>.result_iterator at 0x110eb8f48>\n",
      "[14:22:10] Waiting for individual results:\n",
      "[14:22:10] result 0: 0\n",
      " \t\t\tloiter(3): doing nothing for 3s...\n",
      "[14:22:11] \tloiter(1): done.\n",
      "[14:22:11] \t\t\t\tloiter(4): doing nothing for 4s...\n",
      "[14:22:11] result 1: 10\n",
      "[14:22:12] \t\tloiter(2): done.\n",
      "[14:22:12] result 2: 20\n",
      "[14:22:13] \t\t\tloiter(3): done.\n",
      "[14:22:13] result 3: 30\n",
      "[14:22:15] \t\t\t\tloiter(4): done.\n",
      "[14:22:15] result 4: 40\n"
     ]
    }
   ],
   "source": [
    "test()"
   ]
  },
  {
   "cell_type": "code",
   "execution_count": 9,
   "metadata": {},
   "outputs": [],
   "source": [
    "# 更高级的工具 threading 和 multiprocessing模块\n",
    "# 解决协作进程遇到的最大挑战: 在进程之间传递数据"
   ]
  },
  {
   "cell_type": "code",
   "execution_count": 1,
   "metadata": {},
   "outputs": [],
   "source": [
    "import time, threading\n",
    "import random"
   ]
  },
  {
   "cell_type": "code",
   "execution_count": null,
   "metadata": {},
   "outputs": [],
   "source": [
    "# 数据共享，线程同步\n",
    "var = 0\n",
    "lock = threading.Lock()\n",
    "\n",
    "def change_it(n):\n",
    "    global var\n",
    "    var = var + n\n",
    "    var = var - n\n",
    "\n",
    "def run_thread(n):\n",
    "    for i in range(3):\n",
    "        # 拿到锁\n",
    "        lock.acquire()\n",
    "        change_it(n)\n",
    "        # 释放锁\n",
    "        lock.release()\n",
    "t1 = threading.Thread(target = run_thread, args = (5,)) # 逗号不能省\n",
    "t2 = threading.Thread(target = run_thread, args = (8,))\n",
    "t1.start()\n",
    "t2.start()\n",
    "t1.join()\n",
    "t2.join()"
   ]
  },
  {
   "cell_type": "code",
   "execution_count": null,
   "metadata": {},
   "outputs": [],
   "source": [
    "# 线程阻塞\n",
    "# threading.Event.clear() 阻塞\n",
    "# threading.Event.set() 不阻塞"
   ]
  },
  {
   "cell_type": "code",
   "execution_count": 4,
   "metadata": {},
   "outputs": [],
   "source": [
    "def light():\n",
    "    if not event.isSet():\n",
    "        event.set()\n",
    "    count = 0\n",
    "    while True:\n",
    "        if count < 10:\n",
    "            print ('\\033[42;1m---green light on---\\033[0m')\n",
    "        elif count < 13:\n",
    "            print('\\033[43;1m---yellow light on---\\033[0m')\n",
    "        elif count < 20:\n",
    "            if event.isSet():\n",
    "                event.clear()\n",
    "            print('\\033[41;1m---red light on---\\033[0m')\n",
    "        else:\n",
    "            count = 0\n",
    "            event.set()    #打开绿灯\n",
    "        time.sleep(1)\n",
    "        count += 1\n",
    "\n",
    "def car(n):\n",
    "    while 1:\n",
    "        time.sleep(random.randrange(3, 10))\n",
    "        #print(event.isSet())\n",
    "        if event.isSet():\n",
    "            print(\"car [%s] is running...\" % n)\n",
    "        else:\n",
    "            print('car [%s] is waiting for the red light...' % n)\n",
    "            event.wait()    #红灯状态下调用wait方法阻塞，汽车等待状态"
   ]
  },
  {
   "cell_type": "code",
   "execution_count": 5,
   "metadata": {},
   "outputs": [
    {
     "name": "stdout",
     "output_type": "stream",
     "text": [
      "\u001b[42;1m---green light on---\u001b[0m\n",
      "\u001b[42;1m---green light on---\u001b[0m\n",
      "\u001b[42;1m---green light on---\u001b[0m\n",
      "\u001b[42;1m---green light on---\u001b[0m\n",
      "\u001b[42;1m---green light on---\u001b[0mcar [AUDI] is running...\n",
      "\n",
      "\u001b[42;1m---green light on---\u001b[0m\n",
      "\u001b[42;1m---green light on---\u001b[0m\n",
      "car [AUDI] is running...\n",
      "\u001b[42;1m---green light on---\u001b[0m\n",
      "\u001b[42;1m---green light on---\u001b[0m\n",
      "car [BMW] is running...\n",
      "car [SANTANA] is running...\n",
      "\u001b[42;1m---green light on---\u001b[0m\n",
      "\u001b[43;1m---yellow light on---\u001b[0m\n",
      "\u001b[43;1m---yellow light on---\u001b[0m\n",
      "\u001b[43;1m---yellow light on---\u001b[0m\n",
      "\u001b[41;1m---red light on---\u001b[0m\n",
      "car [AUDI] is waiting for the red light...\n",
      "\u001b[41;1m---red light on---\u001b[0m\n",
      "\u001b[41;1m---red light on---\u001b[0m\n",
      "car [SANTANA] is waiting for the red light...\n",
      "\u001b[41;1m---red light on---\u001b[0m\n",
      "car [BMW] is waiting for the red light...\n",
      "\u001b[41;1m---red light on---\u001b[0m\n",
      "\u001b[41;1m---red light on---\u001b[0m\n",
      "\u001b[41;1m---red light on---\u001b[0m\n",
      "\u001b[42;1m---green light on---\u001b[0m\n",
      "\u001b[42;1m---green light on---\u001b[0m\n"
     ]
    }
   ],
   "source": [
    "car_list = ['BMW', 'AUDI', 'SANTANA']\n",
    "event = threading.Event()\n",
    "Light = threading.Thread(target=light)\n",
    "Light.start()\n",
    "for i in car_list:\n",
    "    t = threading.Thread(target=car, args=(i,))\n",
    "    t.start()"
   ]
  },
  {
   "cell_type": "code",
   "execution_count": 2,
   "metadata": {},
   "outputs": [
    {
     "name": "stdout",
     "output_type": "stream",
     "text": [
      "The current number of threads is: 5\n",
      "Thread-***0*** is running...\n",
      "The current number of threads is: 6\n",
      "Thread-***1*** is running...\n",
      "The current number of threads is: 7\n",
      "Thread-***2*** is running...\n",
      "The current number of threads is: 8\n",
      "Thread-***3*** is running...The current number of threads is: 9\n",
      "\n",
      "Thread-***4*** is running...The current number of threads is: 10\n",
      "\n",
      "Thread-***5*** is running...The current number of threads is: 11\n",
      "Thread-***6*** is running...\n",
      "The current number of threads is: 12\n",
      "\n",
      "Thread-***7*** is running...The current number of threads is: 13\n",
      "Thread-***8*** is running...\n",
      "The current number of threads is: 14\n",
      "\n",
      "Thread-***9*** is running...\n",
      "\n",
      "MainThread thread is done...\n"
     ]
    }
   ],
   "source": [
    "def run():\n",
    "    thread = threading.current_thread()\n",
    "    print('%s is running...'% thread.getName())    #返回线程名称\n",
    "    time.sleep(10)    #休眠10S方便统计存活线程数量\n",
    "\n",
    "#print('The current number of threads is: %s' % threading.active_count())\n",
    "for i in range(10):\n",
    "    print('The current number of threads is: %s' % threading.active_count())    #返回当前存活线程数量\n",
    "    thread_alive = threading.Thread(target=run, name='Thread-***%s***' % i)\n",
    "    thread_alive.start()\n",
    "thread_alive.join()\n",
    "print('\\n%s thread is done...'% threading.current_thread().getName())"
   ]
  },
  {
   "cell_type": "code",
   "execution_count": 6,
   "metadata": {},
   "outputs": [
    {
     "name": "stdout",
     "output_type": "stream",
     "text": [
      "------------------------------\n",
      "Pid is :123145498144768------------------------------\n",
      "\n",
      "Pid is :123145503399936\n",
      "------------------------------\n",
      "Pid is :123145498144768\n",
      "\n",
      "Chengd---python thread is done...\n"
     ]
    }
   ],
   "source": [
    "def run(n):\n",
    "    print('-'*30)\n",
    "    print(\"Pid is :%s\" % threading.get_ident())  # 返回线程pid\n",
    "\n",
    "threading.main_thread().setName('Chengd---python')    #自定义线程名\n",
    "for i in range(3):\n",
    "    thread_alive = threading.Thread(target=run, args=(i,))\n",
    "    thread_alive.start()\n",
    "thread_alive.join()\n",
    "print('\\n%s thread is done...'% threading.current_thread().getName())    #获取线程名"
   ]
  },
  {
   "cell_type": "code",
   "execution_count": null,
   "metadata": {},
   "outputs": [],
   "source": [
    "# multiprocessing"
   ]
  },
  {
   "cell_type": "code",
   "execution_count": null,
   "metadata": {},
   "outputs": [],
   "source": []
  }
 ],
 "metadata": {
  "kernelspec": {
   "display_name": "Python 3",
   "language": "python",
   "name": "python3"
  },
  "language_info": {
   "codemirror_mode": {
    "name": "ipython",
    "version": 3
   },
   "file_extension": ".py",
   "mimetype": "text/x-python",
   "name": "python",
   "nbconvert_exporter": "python",
   "pygments_lexer": "ipython3",
   "version": "3.7.3"
  }
 },
 "nbformat": 4,
 "nbformat_minor": 2
}
