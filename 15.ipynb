{
 "cells": [
  {
   "cell_type": "markdown",
   "metadata": {},
   "source": [
    "# 上下文管理器和else块"
   ]
  },
  {
   "cell_type": "code",
   "execution_count": null,
   "metadata": {},
   "outputs": [],
   "source": [
    "# 要讨论的特性\n",
    "# with 语句和上下文管理器\n",
    "# for、while 和 try语句的else子句"
   ]
  },
  {
   "cell_type": "code",
   "execution_count": null,
   "metadata": {},
   "outputs": [],
   "source": [
    "# else 子句不仅能在if语句中使用，还能在for、while和try语句中使用\n",
    "# for\n",
    "# 仅当for循环运行完毕时（即for循环没有被break语句终止)才运行else模块\n",
    "# while\n",
    "# 仅当while循环因为条件为假值而退出时（即while循环没有被break语句终止)才运行else模块\n",
    "# try\n",
    "# 仅当try块中没有抛出异常时才运行else块。else子句抛出异常不会由前面的except子句处理。"
   ]
  },
  {
   "cell_type": "code",
   "execution_count": 1,
   "metadata": {},
   "outputs": [
    {
     "ename": "ValueError",
     "evalue": "No banana flavor found!",
     "output_type": "error",
     "traceback": [
      "\u001b[0;31m---------------------------------------------------------------------------\u001b[0m",
      "\u001b[0;31mValueError\u001b[0m                                Traceback (most recent call last)",
      "\u001b[0;32m<ipython-input-1-532760a321e1>\u001b[0m in \u001b[0;36m<module>\u001b[0;34m\u001b[0m\n\u001b[1;32m      4\u001b[0m         \u001b[0;32mbreak\u001b[0m\u001b[0;34m\u001b[0m\u001b[0;34m\u001b[0m\u001b[0m\n\u001b[1;32m      5\u001b[0m \u001b[0;32melse\u001b[0m\u001b[0;34m:\u001b[0m\u001b[0;34m\u001b[0m\u001b[0;34m\u001b[0m\u001b[0m\n\u001b[0;32m----> 6\u001b[0;31m     \u001b[0;32mraise\u001b[0m \u001b[0mValueError\u001b[0m\u001b[0;34m(\u001b[0m\u001b[0;34m'No banana flavor found!'\u001b[0m\u001b[0;34m)\u001b[0m\u001b[0;34m\u001b[0m\u001b[0;34m\u001b[0m\u001b[0m\n\u001b[0m",
      "\u001b[0;31mValueError\u001b[0m: No banana flavor found!"
     ]
    }
   ],
   "source": [
    "my_list = []\n",
    "for item in my_list:\n",
    "    if item == 'banana':\n",
    "        break\n",
    "else:\n",
    "    raise ValueError('No banana flavor found!')"
   ]
  },
  {
   "cell_type": "code",
   "execution_count": null,
   "metadata": {},
   "outputs": [],
   "source": [
    "# 上下文管理器和with块\n",
    "# 上下文管理器协议包含__enter__和__exit__两个方法，不管控制流以哪种方式退出with块，都会在上下文管理器对象调用__exit__方法。"
   ]
  },
  {
   "cell_type": "code",
   "execution_count": null,
   "metadata": {},
   "outputs": [],
   "source": [
    "# 把文件对象当上下文管理器使用\n",
    "with open('mirror.py') as fp:\n",
    "    src = fp.read(60)"
   ]
  },
  {
   "cell_type": "code",
   "execution_count": 2,
   "metadata": {},
   "outputs": [],
   "source": [
    "class LookingGlass:\n",
    "    def __enter__(self):\n",
    "        import sys\n",
    "        self.original_write = sys.stdout.write\n",
    "        sys.stdout.write = self.reverse_write\n",
    "        return 'JABBERWOCKY'\n",
    "\n",
    "    def reverse_write(self, text):\n",
    "        self.original_write(text[::-1])\n",
    "\n",
    "    def __exit__(self, exc_type, exc_value, traceback):\n",
    "        # exc_type 异常类 （例如 ZeroDivisionError）\n",
    "        # exc_value 异常实例。有时会有参数传给异常构造方法，例如错误消息，这些参数可以使用exc_value.args获取\n",
    "        # traceback\n",
    "        import sys\n",
    "        sys.stdout.write = self.original_write\n",
    "        if exc_type is ZeroDivisionError:\n",
    "            print('Please DO NOT divide by zero!')\n",
    "            return True"
   ]
  },
  {
   "cell_type": "code",
   "execution_count": 3,
   "metadata": {},
   "outputs": [
    {
     "name": "stdout",
     "output_type": "stream",
     "text": [
      "pordwonS dna yttiK ,ecilA\n",
      "YKCOWREBBAJ\n",
      "JABBERWOCKY\n",
      "Back to normal.\n"
     ]
    }
   ],
   "source": [
    "with LookingGlass() as what:\n",
    "    print ('Alice, Kitty and Snowdrop')\n",
    "    print (what)\n",
    "print (what)\n",
    "print ('Back to normal.')"
   ]
  },
  {
   "cell_type": "code",
   "execution_count": null,
   "metadata": {},
   "outputs": [],
   "source": [
    "# contextlib模块中的实用工具\n",
    "# closing\n",
    "# 如果对象提供了close()方法，但没有实现__enter__/__exit__协议，那么可以使用这个函数构建上下文管理器\n",
    "# suppress\n",
    "# 构建临时忽略指定异常的上下文管理器\n",
    "# @contextmanager\n",
    "# 这个装饰器把简单的生成器函数变成上下文管理器，这样就不用创建类去实现管理器协议了。\n",
    "# ContextDecorator\n",
    "# 这个是基类，用于定义基于类的上下文管理器。这种上下文管理器也能用于装饰函数，在受管理的上下文中运行整个函数。\n",
    "# ExitStack"
   ]
  },
  {
   "cell_type": "code",
   "execution_count": 1,
   "metadata": {},
   "outputs": [],
   "source": [
    "import contextlib\n",
    "# 这样写有缺陷\n",
    "@contextlib.contextmanager\n",
    "def looking_glass():\n",
    "    import sys\n",
    "    original_write = sys.stdout.write\n",
    "    def reverse_write(text):\n",
    "        original_write(text[::-1])\n",
    "    sys.stdout.write = reverse_write\n",
    "    # 会在yield抛出异常，但是没有处理异常，sys.stdout.write永远无法恢复\n",
    "    yield 'JABBERWOCKY'\n",
    "    sys.stdout.write = original_write"
   ]
  },
  {
   "cell_type": "code",
   "execution_count": 2,
   "metadata": {},
   "outputs": [
    {
     "name": "stdout",
     "output_type": "stream",
     "text": [
      "pordwonS dna yttiK ,ecilA\n",
      "YKCOWREBBAJ\n",
      "JABBERWOCKY\n"
     ]
    }
   ],
   "source": [
    "with looking_glass() as what:\n",
    "    print ('Alice, Kitty and Snowdrop')\n",
    "    print (what)\n",
    "print (what)"
   ]
  },
  {
   "cell_type": "code",
   "execution_count": null,
   "metadata": {},
   "outputs": [],
   "source": [
    "import contextlib\n",
    "\n",
    "@contextlib.contextmanager\n",
    "def looking_glass():\n",
    "    import sys\n",
    "    original_write = sys.stdout.write\n",
    "    def reverse_write(text):\n",
    "        original_write(text[::-1])\n",
    "    sys.stdout.write = reverse_write\n",
    "    # yield语句放在try/finally语句中\n",
    "    try:\n",
    "        yield 'JABBERWOCKY'\n",
    "    except ZeroDivisionError:\n",
    "        msg = 'Please DO NOT divide by zero'\n",
    "    finally:\n",
    "        sys.stdout.write = original_write\n",
    "        if msg:\n",
    "            print (msg)\n",
    "    sys.stdout.write = original_write"
   ]
  },
  {
   "cell_type": "code",
   "execution_count": null,
   "metadata": {},
   "outputs": [],
   "source": []
  },
  {
   "cell_type": "markdown",
   "metadata": {},
   "source": []
  }
 ],
 "metadata": {
  "kernelspec": {
   "display_name": "Python 3",
   "language": "python",
   "name": "python3"
  },
  "language_info": {
   "codemirror_mode": {
    "name": "ipython",
    "version": 3
   },
   "file_extension": ".py",
   "mimetype": "text/x-python",
   "name": "python",
   "nbconvert_exporter": "python",
   "pygments_lexer": "ipython3",
   "version": "3.7.3"
  }
 },
 "nbformat": 4,
 "nbformat_minor": 2
}
