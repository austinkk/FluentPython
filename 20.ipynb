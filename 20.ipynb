{
 "cells": [
  {
   "cell_type": "markdown",
   "metadata": {},
   "source": [
    "# 属性描述符"
   ]
  },
  {
   "cell_type": "code",
   "execution_count": null,
   "metadata": {},
   "outputs": [],
   "source": [
    "# 描述符是实现了特定协议的类，这个协议包括__get__、__set__和__delete__方法\n",
    "# 描述符的用法是，创建一个实例，作为另一个类的类属性"
   ]
  },
  {
   "cell_type": "code",
   "execution_count": null,
   "metadata": {},
   "outputs": [],
   "source": [
    "# 描述符类 - 实现描述符协议的类\n",
    "# 托管类 - 把描述符实例声明为类属性的类\n",
    "# 描述符实例 - 描述符类的各个实例\n",
    "# 托管实例 - 托管类的实例\n",
    "# 储存属性 - 托管实例中存储自身托管属性的属性\n",
    "# 托管属性 - 托管类中描述符实例处理的公开属性"
   ]
  },
  {
   "cell_type": "code",
   "execution_count": null,
   "metadata": {},
   "outputs": [],
   "source": [
    "class Quantity:\n",
    "    def __init__(self, storage_name):\n",
    "        self.storage_name = storage_name\n",
    "\n",
    "    # self 就是描述符实例（LineItem.weight/price）\n",
    "    # instance 是托管实例 (LineItem 实例)\n",
    "    # value 是要设定的值\n",
    "    def __set__(self, instance, value):\n",
    "        if value > 0:\n",
    "            if value > 0:\n",
    "                instance.__dict__[self.storage_name] = value\n",
    "            else:\n",
    "                raise ValueError('value must be > 0')\n",
    "\n",
    "class LineItem:\n",
    "    weight = Quantity('weight')\n",
    "    price = Quantity('price')\n",
    "    \n",
    "    def __init__(self, description, weight, price):\n",
    "        self.description = description\n",
    "        self.weight = weight\n",
    "        self.price = price\n",
    "\n",
    "    def subtotal(self):\n",
    "        return self.weight * self.price"
   ]
  },
  {
   "cell_type": "code",
   "execution_count": null,
   "metadata": {},
   "outputs": [],
   "source": [
    "class Quantity:\n",
    "    __counter = 0\n",
    "    \n",
    "    def __init__(self):\n",
    "        cls = self.__class__\n",
    "        prefix = cls.__name__\n",
    "        index = cls.__counter\n",
    "        self.storage_name = '_{}#{}'.format(prefix, index)\n",
    "        cls.__counter += 1\n",
    "\n",
    "    def __get__(self, instance, owner):\n",
    "        if instance is None:\n",
    "            return self\n",
    "        else:\n",
    "              return getattr(instance, self.storage_name)\n",
    "\n",
    "    def __set__(self, instancc, value):\n",
    "        if value > 0:\n",
    "            setattr(instance, self.storage_name)\n",
    "        else:\n",
    "            raise ValueError('value must be > 0')"
   ]
  },
  {
   "cell_type": "code",
   "execution_count": null,
   "metadata": {},
   "outputs": [],
   "source": [
    "# 特性工厂函数\n",
    "def quantity():\n",
    "    try:\n",
    "        quantity.counter += 1\n",
    "    except AttributeError:\n",
    "        quantity.coiunter = 0\n",
    "\n",
    "    storage_name = '_{}:{}'.format('quantity', quantity.counter)\n",
    "\n",
    "    def qty_getter(instance):\n",
    "        return getattr(instance, storage_name)\n",
    "\n",
    "    def qty_setter(instance, value):\n",
    "        if value > 0:\n",
    "            setattr(instance, storage_name, value)\n",
    "        else:\n",
    "            raise ValueError('value must be > 0')\n",
    "             "
   ]
  },
  {
   "cell_type": "code",
   "execution_count": null,
   "metadata": {},
   "outputs": [],
   "source": [
    "# 一种新的描述符\n",
    "import abc\n",
    "\n",
    "class AutoStorage:\n",
    "    __counter = 0\n",
    "\n",
    "    def __init__(self):\n",
    "        cls = self.__class__\n",
    "        prefix = cls.__name__\n",
    "        index = cls.__counter\n",
    "        self.storage_name = '_{}#{}'.format(prefix, index)\n",
    "        cls.__counter += 1\n",
    "\n",
    "    def __get__(self, instance, owner):\n",
    "        if instance is None:\n",
    "            return self\n",
    "        else:\n",
    "            return getattr(instance, self.storage_name)\n",
    "\n",
    "class Validated(abc.ABC, AutoStorage):\n",
    "    def __set__(self, instance, value):\n",
    "        value = self.validate(instance, value)\n",
    "        super().__set__(instance, value)\n",
    "\n",
    "    @abc.abstractclassmethod\n",
    "    def validate(self, instance, value):\n",
    "        \"\"\"return validated value or raise ValueError\"\"\"\n",
    "\n",
    "class Quantity(Validated):\n",
    "    \"\"\"a number greater than zero\"\"\"\n",
    "    def validate(self, instance, value):\n",
    "        if value <= 0:\n",
    "            raise ValueError('value must be > 0')\n",
    "        return value\n",
    "\n",
    "class NonBlank(validated):\n",
    "    \"\"\"a string with at least one non-space character\"\"\"\n",
    "    def validate(self, instance, value):\n",
    "        value = value.strip()\n",
    "        if len(value) == 0:\n",
    "            raise ValueError('value cannot be empty or blank')\n",
    "        return value"
   ]
  },
  {
   "cell_type": "code",
   "execution_count": 1,
   "metadata": {},
   "outputs": [],
   "source": [
    "def cls_name(obj_or_cls):\n",
    "    cls = type(obj_or_cls)\n",
    "    if cls is type:\n",
    "        cls = obj_or_cls\n",
    "    return cls.__name__.split('.')[-1]\n",
    "\n",
    "def display(obj):\n",
    "    cls = type(obj)\n",
    "    if cls is type:\n",
    "        return '<class {}>'.format(obj.__name__)\n",
    "    elif cls in [type(None), int]:\n",
    "        return repr(obj)\n",
    "    else:\n",
    "        return '<{} object>'.format(cls_name(obj))\n",
    "\n",
    "def print_args(name, *args):\n",
    "    pseudo_args = ','.join(display(x) for x in args)\n",
    "    return '-> {}.__{}__({})'.format(cls_name(args[0]), name, pseudo_args)"
   ]
  },
  {
   "cell_type": "code",
   "execution_count": 12,
   "metadata": {},
   "outputs": [
    {
     "data": {
      "text/plain": [
       "'-> Managed.__get__(<Managed object>, <Managed object>, <class Managed>)'"
      ]
     },
     "execution_count": 12,
     "metadata": {},
     "output_type": "execute_result"
    }
   ],
   "source": [
    "print_args('get', obj, obj, Managed)"
   ]
  },
  {
   "cell_type": "code",
   "execution_count": 5,
   "metadata": {},
   "outputs": [],
   "source": [
    "# 覆盖型描述符\n",
    "class Overriding:\n",
    "    def __get__(self, instance, owner):\n",
    "        print_args('get', self, instance, owner)\n",
    "\n",
    "    def __set__(self, instance, value):\n",
    "        print_args('set', self, instance, value)\n",
    "\n",
    "# 覆盖型描述符\n",
    "class OverridingNoGet:\n",
    "    def __set__(self, instance, value):\n",
    "        print_args('set', self, instance, value)\n",
    "\n",
    "# 非覆盖型描述符\n",
    "class NonOverriding:\n",
    "    def __get__(self, instance, owner):\n",
    "        print_args('get', self, instance, owner)\n",
    "        \n",
    "class Managed:\n",
    "    over = Overriding()\n",
    "    over_no_get = OverridingNoGet()\n",
    "    non_over = NonOverriding()\n",
    "\n",
    "    def spam(self):\n",
    "        print ('-> Managed.spam({})'.format(display(self)))"
   ]
  },
  {
   "cell_type": "code",
   "execution_count": null,
   "metadata": {},
   "outputs": [],
   "source": [
    "import collections\n",
    "\n",
    "class Text(collections.UserString):\n",
    "    def __repr__(self):\n",
    "        return 'Text({!r})'.format(self.data)\n",
    "\n",
    "    def reverse(self):\n",
    "        return self[::-1]"
   ]
  },
  {
   "cell_type": "code",
   "execution_count": null,
   "metadata": {},
   "outputs": [],
   "source": []
  },
  {
   "cell_type": "code",
   "execution_count": null,
   "metadata": {},
   "outputs": [],
   "source": []
  },
  {
   "cell_type": "code",
   "execution_count": null,
   "metadata": {},
   "outputs": [],
   "source": []
  },
  {
   "cell_type": "code",
   "execution_count": null,
   "metadata": {},
   "outputs": [],
   "source": []
  },
  {
   "cell_type": "code",
   "execution_count": null,
   "metadata": {},
   "outputs": [],
   "source": []
  },
  {
   "cell_type": "code",
   "execution_count": null,
   "metadata": {},
   "outputs": [],
   "source": []
  },
  {
   "cell_type": "code",
   "execution_count": null,
   "metadata": {},
   "outputs": [],
   "source": []
  },
  {
   "cell_type": "code",
   "execution_count": null,
   "metadata": {},
   "outputs": [],
   "source": []
  },
  {
   "cell_type": "code",
   "execution_count": null,
   "metadata": {},
   "outputs": [],
   "source": []
  },
  {
   "cell_type": "code",
   "execution_count": null,
   "metadata": {},
   "outputs": [],
   "source": []
  }
 ],
 "metadata": {
  "kernelspec": {
   "display_name": "Python 3",
   "language": "python",
   "name": "python3"
  },
  "language_info": {
   "codemirror_mode": {
    "name": "ipython",
    "version": 3
   },
   "file_extension": ".py",
   "mimetype": "text/x-python",
   "name": "python",
   "nbconvert_exporter": "python",
   "pygments_lexer": "ipython3",
   "version": "3.7.3"
  }
 },
 "nbformat": 4,
 "nbformat_minor": 2
}
