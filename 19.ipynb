{
 "cells": [
  {
   "cell_type": "markdown",
   "metadata": {},
   "source": [
    "# 动态属性和特性"
   ]
  },
  {
   "cell_type": "code",
   "execution_count": null,
   "metadata": {},
   "outputs": [],
   "source": [
    "# 数据的属性和处理属性的方法统称属性(attribute), 方法是可调用的属性\n",
    "# 除此之外，还可以创建特性(property)"
   ]
  },
  {
   "cell_type": "code",
   "execution_count": null,
   "metadata": {},
   "outputs": [],
   "source": [
    "from urllib.request import urlopen\n",
    "import warnings\n",
    "import os\n",
    "import json"
   ]
  },
  {
   "cell_type": "code",
   "execution_count": null,
   "metadata": {},
   "outputs": [],
   "source": [
    "URL = 'http://www.oreilly.com/pub/sc/osconfeed'\n",
    "JSON = 'data/osconfeed.json'\n",
    "\n",
    "def load():\n",
    "    if not os.path.exists(JSON):\n",
    "        msg = 'downloading {} to {}'.format(URL, JSON)\n",
    "        warnings.warn(msg)\n",
    "        with urlopen(URL) as remote, open(JSON, 'wb') as local:\n",
    "            local.write(remote.read())\n",
    "\n",
    "    with open(JSON) as fp:\n",
    "        return json.load(fp)"
   ]
  },
  {
   "cell_type": "code",
   "execution_count": 10,
   "metadata": {},
   "outputs": [],
   "source": [
    "from collections import abc\n",
    "\n",
    "class FrozenJSON:\n",
    "\n",
    "    def __new__(cls, arg):\n",
    "        if isinstance(arg, abc.Mapping):\n",
    "            return super().__new__(cls)\n",
    "        elif isinstance(arg, abc.MutableSequence)\n",
    "            return [cls(item) for item in arg]\n",
    "        else:\n",
    "            return arg\n",
    "        \n",
    "    def __init__(self, mapping):\n",
    "        self.__data = dict(mapping)\n",
    "\n",
    "    def __getattr__(self, name):\n",
    "        if hasattr(self.__data, name):\n",
    "            return getattr(self.__data, name)\n",
    "        else:\n",
    "            return FrozenJSON.build(self.__data[name])\n",
    "\n",
    "    @classmethod\n",
    "    def build(cls, obj):\n",
    "        if isinstance(obj, abc.Mapping):\n",
    "            return cls(obj)\n",
    "        elif isinstance(obj, abc.MutableSequence):\n",
    "            return [cls.build(cls.build(item) for item in obj)]\n",
    "        else:\n",
    "            return obj"
   ]
  },
  {
   "cell_type": "code",
   "execution_count": 11,
   "metadata": {},
   "outputs": [],
   "source": [
    "# 原始数据中的键可能不适合作为属性名\n",
    "grad = FrozenJSON({'name': 'Jim Bo', 'class': 1982})"
   ]
  },
  {
   "cell_type": "code",
   "execution_count": 13,
   "metadata": {},
   "outputs": [
    {
     "ename": "SyntaxError",
     "evalue": "invalid syntax (<ipython-input-13-bb5c99ef29c5>, line 1)",
     "output_type": "error",
     "traceback": [
      "\u001b[0;36m  File \u001b[0;32m\"<ipython-input-13-bb5c99ef29c5>\"\u001b[0;36m, line \u001b[0;32m1\u001b[0m\n\u001b[0;31m    grad.class\u001b[0m\n\u001b[0m             ^\u001b[0m\n\u001b[0;31mSyntaxError\u001b[0m\u001b[0;31m:\u001b[0m invalid syntax\n"
     ]
    }
   ],
   "source": [
    "# 可以用getattr(grad, 'class')\n",
    "# \"异常处理吧，没啥好的解决方法\"\n",
    "grad.class"
   ]
  },
  {
   "cell_type": "code",
   "execution_count": null,
   "metadata": {},
   "outputs": [],
   "source": [
    "# 使用__new__方法以灵活的方式创建对象\n",
    "# __new__是个类方法（使用特殊方法处理，因此不必使用@classmethod装饰器)\n",
    "# 必须返回一个实例，返回的实例传给__init__，__init__禁止返回任何值"
   ]
  },
  {
   "cell_type": "code",
   "execution_count": null,
   "metadata": {},
   "outputs": [],
   "source": [
    "# shelve（架子） 模块\n",
    "# pickle（泡菜） 模块\n",
    "# 泡菜放在架子上，所以shelve模块提供了pickle存储方式\n",
    "import warnings\n",
    "import shelve\n",
    "\n",
    "DB_NAME = 'data/schedule1_db'\n",
    "CONFERENCE = 'conference.115'\n",
    "\n",
    "class Record:\n",
    "    def __init__(self, **kwargs):\n",
    "        self.__dict__.updata(kwargs)\n",
    "\n",
    "def load_db(db):\n",
    "    raw_data = load()\n",
    "    warnings.warn('loading '+ DB_NAME)\n",
    "    for collection, rec_list in raw_data['Schedule'].items():\n",
    "        record_type = collection[:-1]\n",
    "        for record in rec_list:\n",
    "            key = '{}.{}'.format(record_type, record['serial'])\n",
    "            record['serial'] = key\n",
    "            db[key] = Record(**record)\n",
    "\n",
    "db = shelve.open(DB_NAME)\n",
    "if CONFERENCE not in db:\n",
    "    load_db(db)\n",
    "\n",
    "speaker = db['speaker.3471']\n",
    "print (type(speaker))\n",
    "print (speaker.name, speaker.twitter)"
   ]
  },
  {
   "cell_type": "code",
   "execution_count": null,
   "metadata": {},
   "outputs": [],
   "source": []
  },
  {
   "cell_type": "code",
   "execution_count": null,
   "metadata": {},
   "outputs": [],
   "source": [
    "import warnings\n",
    "import inspect\n",
    "\n",
    "import osconfeed\n",
    "\n",
    "DB_NAME = 'data/schedule2_db'\n",
    "CONFERENCE = 'conference.115'\n",
    "\n",
    "class Record:\n",
    "    def __init__(self, **kwargs):\n",
    "        self.__dict__.update(kwargs)\n",
    "\n",
    "    def __eq__(self, other):\n",
    "        if isinstance(other, Record):\n",
    "            return self.__dict__ == other.__dict__\n",
    "        else:\n",
    "            return NotImplemented\n",
    "\n",
    "class MissingDatabaseError(RuntimeError):\n",
    "    \"\"\"need db but does not exist\"\"\"\n",
    "\n",
    "class DbRecord(Record):\n",
    "    __db = None\n",
    "\n",
    "    @staticmethod\n",
    "    def set_db(db):\n",
    "        DbRecord.__db = db\n",
    "\n",
    "    @staticmethod\n",
    "    def get_db():\n",
    "        return DbRecord.__db\n",
    "\n",
    "    @classmethod\n",
    "    def fetch(cls, ident):\n",
    "        db = cls.get_db()\n",
    "        try:\n",
    "            return db[ident]\n",
    "        except TypeError:\n",
    "            if db is None:\n",
    "                msg = \"database not set; call '{}.set_db(my_db)'\"\n",
    "                raise MissingDatabaseError(msg.format(cls.__name__))\n",
    "            else:\n",
    "                raise\n",
    "                \n",
    "    def __repr__(self):\n",
    "        if hasattr(self, 'serial'):\n",
    "            cls_name  = self.__class__.__name__\n",
    "            return '<{} serial = {!r}>'.format(cls_name, self.serial)\n",
    "        else:\n",
    "            return super().__repr__()\n",
    "\n",
    "class Event(DbRecord):\n",
    "    @property\n",
    "    def venue(self):\n",
    "        key = 'venue.{}'.format(self.venue_serial)\n",
    "        return self.__class__.fetch(key)\n",
    "\n",
    "    @property\n",
    "    def speakers(self):\n",
    "        if not hasattr(self, '_speaker_objs'):\n",
    "            spkr_serials = self.__dict__['speakers']\n",
    "            fetch = self.__class__.fetch\n",
    "            self._speaker_objs = [fetch('speaker.{}'.format(key)) for key in spkr_serials]\n",
    "        return self._speaker_objs\n",
    "\n",
    "    def __repr__(self):\n",
    "        if hasattr(self, 'name'):\n",
    "            cls_name = self.__class__.__name\n",
    "            # {!r} 反应本体\n",
    "            return '<{} {!r}>'.format(cls_name, self.name)\n",
    "        else:\n",
    "            return super().__repr__()"
   ]
  },
  {
   "cell_type": "code",
   "execution_count": null,
   "metadata": {},
   "outputs": [],
   "source": [
    "def load_db(db):\n",
    "    raw_data = load()\n",
    "    warnings.warn('loading ' + DB_NAME)\n",
    "    for collection, rec_list in raw_data['Schedule'].items():\n",
    "        record_type = collection[:-1]\n",
    "        cls_name = record_type.capitalize()\n",
    "        cls = globals().get(cls_name, DbRecord)\n",
    "        if inspect.isclass(cls) and issubclass(cls, DbRecord):\n",
    "            factory = cls\n",
    "        else:\n",
    "            factory = DbRecord\n",
    "        for record in rec_list:\n",
    "            key = '{}.{}'.format(record_type, record['serial'])\n",
    "            record['serial'] = key\n",
    "            db[key] = factory(**record)"
   ]
  },
  {
   "cell_type": "code",
   "execution_count": null,
   "metadata": {},
   "outputs": [],
   "source": [
    "# 使用特性验证属性\n",
    "class LineItem:\n",
    "    def __init__(self, description, weight, price):\n",
    "        self.description = description\n",
    "        self.weight = weight\n",
    "        self.price = price\n",
    "\n",
    "    def subtotal(self):\n",
    "        return self.weight * self.price\n",
    "\n",
    "# 重量是负值时，金额小计为负值\n",
    "# 数据属性换成特性\n",
    "class LineItem:\n",
    "    def __init__(self, description, weight, price):\n",
    "        self.description = description\n",
    "        self.weight = weight\n",
    "        self.price = price\n",
    "\n",
    "    def subtotal(self):\n",
    "        return self.weight * self.price\n",
    "\n",
    "    @property\n",
    "    def weight(self):\n",
    "        return self.__weight\n",
    "\n",
    "    @weight.setter\n",
    "    def weight(self, value):\n",
    "        if value > 0:\n",
    "            self.__weight = value\n",
    "        else:\n",
    "            raise ValueError('value must be > 0')"
   ]
  },
  {
   "cell_type": "code",
   "execution_count": null,
   "metadata": {},
   "outputs": [],
   "source": [
    "# 特性全解析\n",
    "# property构造方法: property(fget = None, fset = None, fdel = None, doc = None)\n",
    "# “经典”写法\n",
    "class LineItem:\n",
    "    def __init__(self, description, weight, price):\n",
    "        self.description = description\n",
    "        self.weight = weight\n",
    "        self.price = price\n",
    "\n",
    "    def subtotal(self):\n",
    "        return self.weight * self.price\n",
    "\n",
    "    def get_weight(self):\n",
    "        return self.__weight\n",
    "\n",
    "    def set_weight(self, value):\n",
    "        if value > 0:\n",
    "            self.__weight = value\n",
    "        else:\n",
    "            raise ValueError('value must be > 0')\n",
    "\n",
    "    weight = property(get_weight, set_weight)"
   ]
  },
  {
   "cell_type": "code",
   "execution_count": 23,
   "metadata": {},
   "outputs": [],
   "source": [
    "# 特性都是类属性，但是特性管理的其实是实例属性的存取\n",
    "class Class:\n",
    "    data = 'the class data attr'\n",
    "    @property\n",
    "    def prop(self):\n",
    "        return 'the prop value'"
   ]
  },
  {
   "cell_type": "code",
   "execution_count": 24,
   "metadata": {},
   "outputs": [],
   "source": [
    "obj = Class()"
   ]
  },
  {
   "cell_type": "code",
   "execution_count": 25,
   "metadata": {},
   "outputs": [
    {
     "data": {
      "text/plain": [
       "{}"
      ]
     },
     "execution_count": 25,
     "metadata": {},
     "output_type": "execute_result"
    }
   ],
   "source": [
    "vars(obj)"
   ]
  },
  {
   "cell_type": "code",
   "execution_count": 26,
   "metadata": {},
   "outputs": [
    {
     "name": "stdout",
     "output_type": "stream",
     "text": [
      "{'data': 'bar'}\n",
      "bar\n",
      "the class data attr\n"
     ]
    }
   ],
   "source": [
    "obj.data = 'bar'\n",
    "print (vars(obj))\n",
    "print (obj.data)\n",
    "print (Class.data)"
   ]
  },
  {
   "cell_type": "code",
   "execution_count": 27,
   "metadata": {},
   "outputs": [
    {
     "name": "stdout",
     "output_type": "stream",
     "text": [
      "<property object at 0x11020e278>\n"
     ]
    }
   ],
   "source": [
    "print (Class.prop) # 注意，这时候prop是这个类的一个特性"
   ]
  },
  {
   "cell_type": "code",
   "execution_count": 28,
   "metadata": {},
   "outputs": [
    {
     "name": "stdout",
     "output_type": "stream",
     "text": [
      "the prop value\n"
     ]
    },
    {
     "ename": "AttributeError",
     "evalue": "can't set attribute",
     "output_type": "error",
     "traceback": [
      "\u001b[0;31m---------------------------------------------------------------------------\u001b[0m",
      "\u001b[0;31mAttributeError\u001b[0m                            Traceback (most recent call last)",
      "\u001b[0;32m<ipython-input-28-a321a5932ff7>\u001b[0m in \u001b[0;36m<module>\u001b[0;34m\u001b[0m\n\u001b[1;32m      1\u001b[0m \u001b[0mprint\u001b[0m \u001b[0;34m(\u001b[0m\u001b[0mobj\u001b[0m\u001b[0;34m.\u001b[0m\u001b[0mprop\u001b[0m\u001b[0;34m)\u001b[0m\u001b[0;34m\u001b[0m\u001b[0;34m\u001b[0m\u001b[0m\n\u001b[0;32m----> 2\u001b[0;31m \u001b[0mobj\u001b[0m\u001b[0;34m.\u001b[0m\u001b[0mprop\u001b[0m \u001b[0;34m=\u001b[0m \u001b[0;34m'foo'\u001b[0m\u001b[0;34m\u001b[0m\u001b[0;34m\u001b[0m\u001b[0m\n\u001b[0m",
      "\u001b[0;31mAttributeError\u001b[0m: can't set attribute"
     ]
    }
   ],
   "source": [
    "print (obj.prop)\n",
    "obj.prop = 'foo'"
   ]
  },
  {
   "cell_type": "code",
   "execution_count": 29,
   "metadata": {},
   "outputs": [
    {
     "name": "stdout",
     "output_type": "stream",
     "text": [
      "{'data': 'bar', 'prop': 'foo'}\n",
      "the prop value\n",
      "foo\n"
     ]
    }
   ],
   "source": [
    "obj.__dict__['prop'] = 'foo'\n",
    "print (vars(obj))\n",
    "print (obj.prop)\n",
    "Class.prop = 'baz' # 销毁特性\n",
    "print (obj.prop)"
   ]
  },
  {
   "cell_type": "code",
   "execution_count": 30,
   "metadata": {},
   "outputs": [
    {
     "name": "stdout",
     "output_type": "stream",
     "text": [
      "bar\n",
      "the class data attr\n",
      "the \"data\" prop value\n",
      "bar\n"
     ]
    }
   ],
   "source": [
    "print (obj.data)\n",
    "print (Class.data)\n",
    "Class.data = property(lambda self: 'the \"data\" prop value')\n",
    "print (obj.data)\n",
    "del Class.data\n",
    "print (obj.data)"
   ]
  },
  {
   "cell_type": "code",
   "execution_count": 42,
   "metadata": {},
   "outputs": [],
   "source": [
    "# 定义一个特性工厂函数\n",
    "def quantity(storage_name):\n",
    "    def qty_getter(instance):\n",
    "        return instance.__dict__[storage_name]\n",
    "\n",
    "    def qty_setter(instance, value):\n",
    "        if value > 0:\n",
    "            instance.__dict__[storage_name] = value\n",
    "        else:\n",
    "            raise ValueError('value must be > 0')\n",
    "\n",
    "    return property(qty_getter, qty_setter)\n",
    "\n",
    "class LineItem:\n",
    "    weight = quantity('weight')\n",
    "    price = quantity('price')\n",
    "\n",
    "    def __init__(self, description, weight, price):\n",
    "        self.description = description\n",
    "        self.weight = weight\n",
    "        self.price = price\n",
    "\n",
    "    def subtotal(self):\n",
    "        return self.weight * self.price"
   ]
  },
  {
   "cell_type": "code",
   "execution_count": null,
   "metadata": {},
   "outputs": [],
   "source": [
    "# 删除属性（不常用，了解下即可）\n",
    "# del obj.attr\n",
    "# @menber.deleter"
   ]
  },
  {
   "cell_type": "code",
   "execution_count": null,
   "metadata": {},
   "outputs": [],
   "source": [
    "# 影响属性处理的重要属性和函数\n",
    "# __class__\n",
    "# obj.__class__ 和 type(obj)作用相同\n",
    "# __dict__\n",
    "# 一个映射，存储对象或类的可写属性\n",
    "# __slots__\n",
    "# 限制实例能拥有哪些属性，如果slots没有'__dict__',实例只允许有指定名称的属性"
   ]
  },
  {
   "cell_type": "code",
   "execution_count": null,
   "metadata": {},
   "outputs": [],
   "source": [
    "# 处理属性的内置函数"
   ]
  },
  {
   "cell_type": "code",
   "execution_count": 44,
   "metadata": {},
   "outputs": [],
   "source": [
    "# dir([object]) 列出对象的大多数属性\n",
    "# getattr(object, name [, default])\n",
    "# hasattr(object, name)\n",
    "# setattr(object, name, value)\n",
    "# vars([object]) 等同于obj.__dict__，如果没参数，vars()等同于locals()"
   ]
  },
  {
   "cell_type": "code",
   "execution_count": 53,
   "metadata": {},
   "outputs": [
    {
     "data": {
      "text/plain": [
       "['__class__',\n",
       " '__delattr__',\n",
       " '__dict__',\n",
       " '__dir__',\n",
       " '__doc__',\n",
       " '__eq__',\n",
       " '__format__',\n",
       " '__ge__',\n",
       " '__getattribute__',\n",
       " '__gt__',\n",
       " '__hash__',\n",
       " '__init__',\n",
       " '__init_subclass__',\n",
       " '__le__',\n",
       " '__lt__',\n",
       " '__module__',\n",
       " '__ne__',\n",
       " '__new__',\n",
       " '__reduce__',\n",
       " '__reduce_ex__',\n",
       " '__repr__',\n",
       " '__setattr__',\n",
       " '__sizeof__',\n",
       " '__str__',\n",
       " '__subclasshook__',\n",
       " '__weakref__',\n",
       " 'data',\n",
       " 'prop']"
      ]
     },
     "execution_count": 53,
     "metadata": {},
     "output_type": "execute_result"
    }
   ],
   "source": [
    "dir(obj)"
   ]
  },
  {
   "cell_type": "code",
   "execution_count": 54,
   "metadata": {},
   "outputs": [
    {
     "data": {
      "text/plain": [
       "{'data': 'bar', 'prop': 'foo'}"
      ]
     },
     "execution_count": 54,
     "metadata": {},
     "output_type": "execute_result"
    }
   ],
   "source": [
    "obj.__dict__"
   ]
  },
  {
   "cell_type": "code",
   "execution_count": null,
   "metadata": {},
   "outputs": [],
   "source": []
  },
  {
   "cell_type": "code",
   "execution_count": null,
   "metadata": {},
   "outputs": [],
   "source": []
  },
  {
   "cell_type": "code",
   "execution_count": null,
   "metadata": {},
   "outputs": [],
   "source": []
  }
 ],
 "metadata": {
  "kernelspec": {
   "display_name": "Python 3",
   "language": "python",
   "name": "python3"
  },
  "language_info": {
   "codemirror_mode": {
    "name": "ipython",
    "version": 3
   },
   "file_extension": ".py",
   "mimetype": "text/x-python",
   "name": "python",
   "nbconvert_exporter": "python",
   "pygments_lexer": "ipython3",
   "version": "3.7.3"
  }
 },
 "nbformat": 4,
 "nbformat_minor": 2
}
